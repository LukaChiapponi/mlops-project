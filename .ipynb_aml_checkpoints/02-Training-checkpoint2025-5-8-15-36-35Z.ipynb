{
  "cells": [
    {
      "attachments": {},
      "cell_type": "markdown",
      "source": [
        "# 1 model using reguralisation"
      ],
      "metadata": {}
    },
    {
      "cell_type": "markdown",
      "source": [
        "Now we'll create a model using reguralisation to increase it's performance"
      ],
      "metadata": {}
    },
    {
      "cell_type": "markdown",
      "source": [
        "Let's load our data and packages first"
      ],
      "metadata": {}
    },
    {
      "cell_type": "code",
      "source": [
        "%pip install matplotlib\n",
        "%pip install seaborn\n",
        "%pip install tensorflow\n",
        "%pip install --upgrade numpy\n",
        "%pip install azure-identity\n",
        "%pip install azure-ai\n",
        "%pip install azure-ai-ml"
      ],
      "outputs": [
        {
          "output_type": "stream",
          "name": "stdout",
          "text": "Collecting matplotlib\n  Downloading matplotlib-3.10.3-cp310-cp310-manylinux_2_17_x86_64.manylinux2014_x86_64.whl.metadata (11 kB)\nCollecting contourpy>=1.0.1 (from matplotlib)\n  Downloading contourpy-1.3.2-cp310-cp310-manylinux_2_17_x86_64.manylinux2014_x86_64.whl.metadata (5.5 kB)\nCollecting cycler>=0.10 (from matplotlib)\n  Downloading cycler-0.12.1-py3-none-any.whl.metadata (3.8 kB)\nCollecting fonttools>=4.22.0 (from matplotlib)\n  Downloading fonttools-4.58.2-cp310-cp310-manylinux_2_17_x86_64.manylinux2014_x86_64.whl.metadata (106 kB)\nCollecting kiwisolver>=1.3.1 (from matplotlib)\n  Downloading kiwisolver-1.4.8-cp310-cp310-manylinux_2_12_x86_64.manylinux2010_x86_64.whl.metadata (6.2 kB)\nRequirement already satisfied: numpy>=1.23 in /anaconda/envs/jupyter_env/lib/python3.10/site-packages (from matplotlib) (2.2.5)\nRequirement already satisfied: packaging>=20.0 in /anaconda/envs/jupyter_env/lib/python3.10/site-packages (from matplotlib) (25.0)\nCollecting pillow>=8 (from matplotlib)\n  Downloading pillow-11.2.1-cp310-cp310-manylinux_2_28_x86_64.whl.metadata (8.9 kB)\nCollecting pyparsing>=2.3.1 (from matplotlib)\n  Downloading pyparsing-3.2.3-py3-none-any.whl.metadata (5.0 kB)\nRequirement already satisfied: python-dateutil>=2.7 in /anaconda/envs/jupyter_env/lib/python3.10/site-packages (from matplotlib) (2.9.0.post0)\nRequirement already satisfied: six>=1.5 in /anaconda/envs/jupyter_env/lib/python3.10/site-packages (from python-dateutil>=2.7->matplotlib) (1.17.0)\nDownloading matplotlib-3.10.3-cp310-cp310-manylinux_2_17_x86_64.manylinux2014_x86_64.whl (8.6 MB)\n\u001b[2K   \u001b[90m━━━━━━━━━━━━━━━━━━━━━━━━━━━━━━━━━━━━━━━━\u001b[0m \u001b[32m8.6/8.6 MB\u001b[0m \u001b[31m79.1 MB/s\u001b[0m eta \u001b[36m0:00:00\u001b[0m\n\u001b[?25hDownloading contourpy-1.3.2-cp310-cp310-manylinux_2_17_x86_64.manylinux2014_x86_64.whl (325 kB)\nDownloading cycler-0.12.1-py3-none-any.whl (8.3 kB)\nDownloading fonttools-4.58.2-cp310-cp310-manylinux_2_17_x86_64.manylinux2014_x86_64.whl (4.8 MB)\n\u001b[2K   \u001b[90m━━━━━━━━━━━━━━━━━━━━━━━━━━━━━━━━━━━━━━━━\u001b[0m \u001b[32m4.8/4.8 MB\u001b[0m \u001b[31m22.2 MB/s\u001b[0m eta \u001b[36m0:00:00\u001b[0m00:01\u001b[0m\n\u001b[?25hDownloading kiwisolver-1.4.8-cp310-cp310-manylinux_2_12_x86_64.manylinux2010_x86_64.whl (1.6 MB)\n\u001b[2K   \u001b[90m━━━━━━━━━━━━━━━━━━━━━━━━━━━━━━━━━━━━━━━━\u001b[0m \u001b[32m1.6/1.6 MB\u001b[0m \u001b[31m28.7 MB/s\u001b[0m eta \u001b[36m0:00:00\u001b[0m\n\u001b[?25hDownloading pillow-11.2.1-cp310-cp310-manylinux_2_28_x86_64.whl (4.6 MB)\n\u001b[2K   \u001b[90m━━━━━━━━━━━━━━━━━━━━━━━━━━━━━━━━━━━━━━━━\u001b[0m \u001b[32m4.6/4.6 MB\u001b[0m \u001b[31m92.6 MB/s\u001b[0m eta \u001b[36m0:00:00\u001b[0m\n\u001b[?25hDownloading pyparsing-3.2.3-py3-none-any.whl (111 kB)\nInstalling collected packages: pyparsing, pillow, kiwisolver, fonttools, cycler, contourpy, matplotlib\nSuccessfully installed contourpy-1.3.2 cycler-0.12.1 fonttools-4.58.2 kiwisolver-1.4.8 matplotlib-3.10.3 pillow-11.2.1 pyparsing-3.2.3\nNote: you may need to restart the kernel to use updated packages.\nCollecting seaborn\n  Downloading seaborn-0.13.2-py3-none-any.whl.metadata (5.4 kB)\nRequirement already satisfied: numpy!=1.24.0,>=1.20 in /anaconda/envs/jupyter_env/lib/python3.10/site-packages (from seaborn) (2.2.5)\nRequirement already satisfied: pandas>=1.2 in /anaconda/envs/jupyter_env/lib/python3.10/site-packages (from seaborn) (2.2.3)\nRequirement already satisfied: matplotlib!=3.6.1,>=3.4 in /anaconda/envs/jupyter_env/lib/python3.10/site-packages (from seaborn) (3.10.3)\nRequirement already satisfied: contourpy>=1.0.1 in /anaconda/envs/jupyter_env/lib/python3.10/site-packages (from matplotlib!=3.6.1,>=3.4->seaborn) (1.3.2)\nRequirement already satisfied: cycler>=0.10 in /anaconda/envs/jupyter_env/lib/python3.10/site-packages (from matplotlib!=3.6.1,>=3.4->seaborn) (0.12.1)\nRequirement already satisfied: fonttools>=4.22.0 in /anaconda/envs/jupyter_env/lib/python3.10/site-packages (from matplotlib!=3.6.1,>=3.4->seaborn) (4.58.2)\nRequirement already satisfied: kiwisolver>=1.3.1 in /anaconda/envs/jupyter_env/lib/python3.10/site-packages (from matplotlib!=3.6.1,>=3.4->seaborn) (1.4.8)\nRequirement already satisfied: packaging>=20.0 in /anaconda/envs/jupyter_env/lib/python3.10/site-packages (from matplotlib!=3.6.1,>=3.4->seaborn) (25.0)\nRequirement already satisfied: pillow>=8 in /anaconda/envs/jupyter_env/lib/python3.10/site-packages (from matplotlib!=3.6.1,>=3.4->seaborn) (11.2.1)\nRequirement already satisfied: pyparsing>=2.3.1 in /anaconda/envs/jupyter_env/lib/python3.10/site-packages (from matplotlib!=3.6.1,>=3.4->seaborn) (3.2.3)\nRequirement already satisfied: python-dateutil>=2.7 in /anaconda/envs/jupyter_env/lib/python3.10/site-packages (from matplotlib!=3.6.1,>=3.4->seaborn) (2.9.0.post0)\nRequirement already satisfied: pytz>=2020.1 in /anaconda/envs/jupyter_env/lib/python3.10/site-packages (from pandas>=1.2->seaborn) (2025.2)\nRequirement already satisfied: tzdata>=2022.7 in /anaconda/envs/jupyter_env/lib/python3.10/site-packages (from pandas>=1.2->seaborn) (2025.2)\nRequirement already satisfied: six>=1.5 in /anaconda/envs/jupyter_env/lib/python3.10/site-packages (from python-dateutil>=2.7->matplotlib!=3.6.1,>=3.4->seaborn) (1.17.0)\nDownloading seaborn-0.13.2-py3-none-any.whl (294 kB)\nInstalling collected packages: seaborn\nSuccessfully installed seaborn-0.13.2\nNote: you may need to restart the kernel to use updated packages.\nCollecting tensorflow\n  Downloading tensorflow-2.19.0-cp310-cp310-manylinux_2_17_x86_64.manylinux2014_x86_64.whl.metadata (4.1 kB)\nRequirement already satisfied: absl-py>=1.0.0 in /anaconda/envs/jupyter_env/lib/python3.10/site-packages (from tensorflow) (2.2.2)\nCollecting astunparse>=1.6.0 (from tensorflow)\n  Downloading astunparse-1.6.3-py2.py3-none-any.whl.metadata (4.4 kB)\nCollecting flatbuffers>=24.3.25 (from tensorflow)\n  Downloading flatbuffers-25.2.10-py2.py3-none-any.whl.metadata (875 bytes)\nCollecting gast!=0.5.0,!=0.5.1,!=0.5.2,>=0.2.1 (from tensorflow)\n  Downloading gast-0.6.0-py3-none-any.whl.metadata (1.3 kB)\nCollecting google-pasta>=0.1.1 (from tensorflow)\n  Downloading google_pasta-0.2.0-py3-none-any.whl.metadata (814 bytes)\nCollecting libclang>=13.0.0 (from tensorflow)\n  Downloading libclang-18.1.1-py2.py3-none-manylinux2010_x86_64.whl.metadata (5.2 kB)\nCollecting opt-einsum>=2.3.2 (from tensorflow)\n  Downloading opt_einsum-3.4.0-py3-none-any.whl.metadata (6.3 kB)\nRequirement already satisfied: packaging in /anaconda/envs/jupyter_env/lib/python3.10/site-packages (from tensorflow) (25.0)\nCollecting protobuf!=4.21.0,!=4.21.1,!=4.21.2,!=4.21.3,!=4.21.4,!=4.21.5,<6.0.0dev,>=3.20.3 (from tensorflow)\n  Downloading protobuf-5.29.5-cp38-abi3-manylinux2014_x86_64.whl.metadata (592 bytes)\nRequirement already satisfied: requests<3,>=2.21.0 in /anaconda/envs/jupyter_env/lib/python3.10/site-packages (from tensorflow) (2.32.3)\nRequirement already satisfied: setuptools in /anaconda/envs/jupyter_env/lib/python3.10/site-packages (from tensorflow) (75.8.0)\nRequirement already satisfied: six>=1.12.0 in /anaconda/envs/jupyter_env/lib/python3.10/site-packages (from tensorflow) (1.17.0)\nCollecting termcolor>=1.1.0 (from tensorflow)\n  Downloading termcolor-3.1.0-py3-none-any.whl.metadata (6.4 kB)\nRequirement already satisfied: typing-extensions>=3.6.6 in /anaconda/envs/jupyter_env/lib/python3.10/site-packages (from tensorflow) (4.13.2)\nRequirement already satisfied: wrapt>=1.11.0 in /anaconda/envs/jupyter_env/lib/python3.10/site-packages (from tensorflow) (1.17.2)\nRequirement already satisfied: grpcio<2.0,>=1.24.3 in /anaconda/envs/jupyter_env/lib/python3.10/site-packages (from tensorflow) (1.71.0)\nRequirement already satisfied: tensorboard~=2.19.0 in /anaconda/envs/jupyter_env/lib/python3.10/site-packages (from tensorflow) (2.19.0)\nCollecting keras>=3.5.0 (from tensorflow)\n  Downloading keras-3.10.0-py3-none-any.whl.metadata (6.0 kB)\nCollecting numpy<2.2.0,>=1.26.0 (from tensorflow)\n  Downloading numpy-2.1.3-cp310-cp310-manylinux_2_17_x86_64.manylinux2014_x86_64.whl.metadata (62 kB)\nRequirement already satisfied: h5py>=3.11.0 in /anaconda/envs/jupyter_env/lib/python3.10/site-packages (from tensorflow) (3.13.0)\nCollecting ml-dtypes<1.0.0,>=0.5.1 (from tensorflow)\n  Downloading ml_dtypes-0.5.1-cp310-cp310-manylinux_2_17_x86_64.manylinux2014_x86_64.whl.metadata (21 kB)\nCollecting tensorflow-io-gcs-filesystem>=0.23.1 (from tensorflow)\n  Downloading tensorflow_io_gcs_filesystem-0.37.1-cp310-cp310-manylinux_2_17_x86_64.manylinux2014_x86_64.whl.metadata (14 kB)\nRequirement already satisfied: wheel<1.0,>=0.23.0 in /anaconda/envs/jupyter_env/lib/python3.10/site-packages (from astunparse>=1.6.0->tensorflow) (0.45.1)\nCollecting rich (from keras>=3.5.0->tensorflow)\n  Downloading rich-14.0.0-py3-none-any.whl.metadata (18 kB)\nCollecting namex (from keras>=3.5.0->tensorflow)\n  Downloading namex-0.1.0-py3-none-any.whl.metadata (322 bytes)\nCollecting optree (from keras>=3.5.0->tensorflow)\n  Downloading optree-0.16.0-cp310-cp310-manylinux_2_17_x86_64.manylinux2014_x86_64.whl.metadata (30 kB)\nRequirement already satisfied: charset_normalizer<4,>=2 in /anaconda/envs/jupyter_env/lib/python3.10/site-packages (from requests<3,>=2.21.0->tensorflow) (3.4.1)\nRequirement already satisfied: idna<4,>=2.5 in /anaconda/envs/jupyter_env/lib/python3.10/site-packages (from requests<3,>=2.21.0->tensorflow) (3.10)\nRequirement already satisfied: urllib3<3,>=1.21.1 in /anaconda/envs/jupyter_env/lib/python3.10/site-packages (from requests<3,>=2.21.0->tensorflow) (2.4.0)\nRequirement already satisfied: certifi>=2017.4.17 in /anaconda/envs/jupyter_env/lib/python3.10/site-packages (from requests<3,>=2.21.0->tensorflow) (2025.1.31)\nRequirement already satisfied: markdown>=2.6.8 in /anaconda/envs/jupyter_env/lib/python3.10/site-packages (from tensorboard~=2.19.0->tensorflow) (3.8)\nRequirement already satisfied: tensorboard-data-server<0.8.0,>=0.7.0 in /anaconda/envs/jupyter_env/lib/python3.10/site-packages (from tensorboard~=2.19.0->tensorflow) (0.7.2)\nRequirement already satisfied: werkzeug>=1.0.1 in /anaconda/envs/jupyter_env/lib/python3.10/site-packages (from tensorboard~=2.19.0->tensorflow) (3.1.3)\nRequirement already satisfied: MarkupSafe>=2.1.1 in /anaconda/envs/jupyter_env/lib/python3.10/site-packages (from werkzeug>=1.0.1->tensorboard~=2.19.0->tensorflow) (2.1.1)\nRequirement already satisfied: markdown-it-py>=2.2.0 in /anaconda/envs/jupyter_env/lib/python3.10/site-packages (from rich->keras>=3.5.0->tensorflow) (3.0.0)\nRequirement already satisfied: pygments<3.0.0,>=2.13.0 in /anaconda/envs/jupyter_env/lib/python3.10/site-packages (from rich->keras>=3.5.0->tensorflow) (2.19.1)\nRequirement already satisfied: mdurl~=0.1 in /anaconda/envs/jupyter_env/lib/python3.10/site-packages (from markdown-it-py>=2.2.0->rich->keras>=3.5.0->tensorflow) (0.1.2)\nDownloading tensorflow-2.19.0-cp310-cp310-manylinux_2_17_x86_64.manylinux2014_x86_64.whl (644.8 MB)\n\u001b[2K   \u001b[90m━━━━━━━━━━━━━━━━━━━━━━━━━━━━━━━━━━━━━━━━\u001b[0m \u001b[32m644.8/644.8 MB\u001b[0m \u001b[31m37.1 MB/s\u001b[0m eta \u001b[36m0:00:00\u001b[0m00:01\u001b[0m00:01\u001b[0m\n\u001b[?25hDownloading astunparse-1.6.3-py2.py3-none-any.whl (12 kB)\nDownloading flatbuffers-25.2.10-py2.py3-none-any.whl (30 kB)\nDownloading gast-0.6.0-py3-none-any.whl (21 kB)\nDownloading google_pasta-0.2.0-py3-none-any.whl (57 kB)\nDownloading keras-3.10.0-py3-none-any.whl (1.4 MB)\n\u001b[2K   \u001b[90m━━━━━━━━━━━━━━━━━━━━━━━━━━━━━━━━━━━━━━━━\u001b[0m \u001b[32m1.4/1.4 MB\u001b[0m \u001b[31m46.2 MB/s\u001b[0m eta \u001b[36m0:00:00\u001b[0m\n\u001b[?25hDownloading libclang-18.1.1-py2.py3-none-manylinux2010_x86_64.whl (24.5 MB)\n\u001b[2K   \u001b[90m━━━━━━━━━━━━━━━━━━━━━━━━━━━━━━━━━━━━━━━━\u001b[0m \u001b[32m24.5/24.5 MB\u001b[0m \u001b[31m114.6 MB/s\u001b[0m eta \u001b[36m0:00:00\u001b[0m00:01\u001b[0m\n\u001b[?25hDownloading ml_dtypes-0.5.1-cp310-cp310-manylinux_2_17_x86_64.manylinux2014_x86_64.whl (4.7 MB)\n\u001b[2K   \u001b[90m━━━━━━━━━━━━━━━━━━━━━━━━━━━━━━━━━━━━━━━━\u001b[0m \u001b[32m4.7/4.7 MB\u001b[0m \u001b[31m87.8 MB/s\u001b[0m eta \u001b[36m0:00:00\u001b[0m\n\u001b[?25hDownloading numpy-2.1.3-cp310-cp310-manylinux_2_17_x86_64.manylinux2014_x86_64.whl (16.3 MB)\n\u001b[2K   \u001b[90m━━━━━━━━━━━━━━━━━━━━━━━━━━━━━━━━━━━━━━━━\u001b[0m \u001b[32m16.3/16.3 MB\u001b[0m \u001b[31m99.2 MB/s\u001b[0m eta \u001b[36m0:00:00\u001b[0m\n\u001b[?25hDownloading opt_einsum-3.4.0-py3-none-any.whl (71 kB)\nDownloading protobuf-5.29.5-cp38-abi3-manylinux2014_x86_64.whl (319 kB)\nDownloading tensorflow_io_gcs_filesystem-0.37.1-cp310-cp310-manylinux_2_17_x86_64.manylinux2014_x86_64.whl (5.1 MB)\n\u001b[2K   \u001b[90m━━━━━━━━━━━━━━━━━━━━━━━━━━━━━━━━━━━━━━━━\u001b[0m \u001b[32m5.1/5.1 MB\u001b[0m \u001b[31m104.6 MB/s\u001b[0m eta \u001b[36m0:00:00\u001b[0m\n\u001b[?25hDownloading termcolor-3.1.0-py3-none-any.whl (7.7 kB)\nDownloading namex-0.1.0-py3-none-any.whl (5.9 kB)\nDownloading optree-0.16.0-cp310-cp310-manylinux_2_17_x86_64.manylinux2014_x86_64.whl (405 kB)\nDownloading rich-14.0.0-py3-none-any.whl (243 kB)\nInstalling collected packages: namex, libclang, flatbuffers, termcolor, tensorflow-io-gcs-filesystem, protobuf, optree, opt-einsum, numpy, google-pasta, gast, astunparse, rich, ml-dtypes, keras, tensorflow\n  Attempting uninstall: protobuf\n    Found existing installation: protobuf 6.30.2\n    Uninstalling protobuf-6.30.2:\n      Successfully uninstalled protobuf-6.30.2\n  Attempting uninstall: numpy\n    Found existing installation: numpy 2.2.5\n    Uninstalling numpy-2.2.5:\n      Successfully uninstalled numpy-2.2.5\nSuccessfully installed astunparse-1.6.3 flatbuffers-25.2.10 gast-0.6.0 google-pasta-0.2.0 keras-3.10.0 libclang-18.1.1 ml-dtypes-0.5.1 namex-0.1.0 numpy-2.1.3 opt-einsum-3.4.0 optree-0.16.0 protobuf-5.29.5 rich-14.0.0 tensorflow-2.19.0 tensorflow-io-gcs-filesystem-0.37.1 termcolor-3.1.0\nNote: you may need to restart the kernel to use updated packages.\nRequirement already satisfied: numpy in /anaconda/envs/jupyter_env/lib/python3.10/site-packages (2.1.3)\nCollecting numpy\n  Downloading numpy-2.2.6-cp310-cp310-manylinux_2_17_x86_64.manylinux2014_x86_64.whl.metadata (62 kB)\nDownloading numpy-2.2.6-cp310-cp310-manylinux_2_17_x86_64.manylinux2014_x86_64.whl (16.8 MB)\n\u001b[2K   \u001b[90m━━━━━━━━━━━━━━━━━━━━━━━━━━━━━━━━━━━━━━━━\u001b[0m \u001b[32m16.8/16.8 MB\u001b[0m \u001b[31m72.7 MB/s\u001b[0m eta \u001b[36m0:00:00\u001b[0m:00:01\u001b[0m\n\u001b[?25hInstalling collected packages: numpy\n  Attempting uninstall: numpy\n    Found existing installation: numpy 2.1.3\n    Uninstalling numpy-2.1.3:\n      Successfully uninstalled numpy-2.1.3\n\u001b[31mERROR: pip's dependency resolver does not currently take into account all the packages that are installed. This behaviour is the source of the following dependency conflicts.\ntensorflow 2.19.0 requires numpy<2.2.0,>=1.26.0, but you have numpy 2.2.6 which is incompatible.\u001b[0m\u001b[31m\n\u001b[0mSuccessfully installed numpy-2.2.6\nNote: you may need to restart the kernel to use updated packages.\nCollecting azure-identity\n  Downloading azure_identity-1.23.0-py3-none-any.whl.metadata (81 kB)\nRequirement already satisfied: azure-core>=1.31.0 in /anaconda/envs/jupyter_env/lib/python3.10/site-packages (from azure-identity) (1.33.0)\nRequirement already satisfied: cryptography>=2.5 in /anaconda/envs/jupyter_env/lib/python3.10/site-packages (from azure-identity) (44.0.2)\nRequirement already satisfied: msal>=1.30.0 in /anaconda/envs/jupyter_env/lib/python3.10/site-packages (from azure-identity) (1.32.0)\nRequirement already satisfied: msal-extensions>=1.2.0 in /anaconda/envs/jupyter_env/lib/python3.10/site-packages (from azure-identity) (1.3.1)\nRequirement already satisfied: typing-extensions>=4.0.0 in /anaconda/envs/jupyter_env/lib/python3.10/site-packages (from azure-identity) (4.13.2)\nRequirement already satisfied: requests>=2.21.0 in /anaconda/envs/jupyter_env/lib/python3.10/site-packages (from azure-core>=1.31.0->azure-identity) (2.32.3)\nRequirement already satisfied: six>=1.11.0 in /anaconda/envs/jupyter_env/lib/python3.10/site-packages (from azure-core>=1.31.0->azure-identity) (1.17.0)\nRequirement already satisfied: cffi>=1.12 in /anaconda/envs/jupyter_env/lib/python3.10/site-packages (from cryptography>=2.5->azure-identity) (1.15.0)\nRequirement already satisfied: PyJWT<3,>=1.0.0 in /anaconda/envs/jupyter_env/lib/python3.10/site-packages (from PyJWT[crypto]<3,>=1.0.0->msal>=1.30.0->azure-identity) (2.10.1)\nRequirement already satisfied: pycparser in /anaconda/envs/jupyter_env/lib/python3.10/site-packages (from cffi>=1.12->cryptography>=2.5->azure-identity) (2.22)\nRequirement already satisfied: charset_normalizer<4,>=2 in /anaconda/envs/jupyter_env/lib/python3.10/site-packages (from requests>=2.21.0->azure-core>=1.31.0->azure-identity) (3.4.1)\nRequirement already satisfied: idna<4,>=2.5 in /anaconda/envs/jupyter_env/lib/python3.10/site-packages (from requests>=2.21.0->azure-core>=1.31.0->azure-identity) (3.10)\nRequirement already satisfied: urllib3<3,>=1.21.1 in /anaconda/envs/jupyter_env/lib/python3.10/site-packages (from requests>=2.21.0->azure-core>=1.31.0->azure-identity) (2.4.0)\nRequirement already satisfied: certifi>=2017.4.17 in /anaconda/envs/jupyter_env/lib/python3.10/site-packages (from requests>=2.21.0->azure-core>=1.31.0->azure-identity) (2025.1.31)\nDownloading azure_identity-1.23.0-py3-none-any.whl (186 kB)\nInstalling collected packages: azure-identity\nSuccessfully installed azure-identity-1.23.0\nNote: you may need to restart the kernel to use updated packages.\n\u001b[31mERROR: Could not find a version that satisfies the requirement azure-ai (from versions: none)\u001b[0m\u001b[31m\n\u001b[0m\u001b[31mERROR: No matching distribution found for azure-ai\u001b[0m\u001b[31m\n\u001b[0mNote: you may need to restart the kernel to use updated packages.\nCollecting azure-ai-ml\n  Downloading azure_ai_ml-1.27.1-py3-none-any.whl.metadata (37 kB)\nRequirement already satisfied: pyyaml<7.0.0,>=5.1.0 in /anaconda/envs/jupyter_env/lib/python3.10/site-packages (from azure-ai-ml) (6.0.2)\nRequirement already satisfied: msrest<1.0.0,>=0.6.18 in /anaconda/envs/jupyter_env/lib/python3.10/site-packages (from azure-ai-ml) (0.7.1)\nRequirement already satisfied: azure-core>=1.23.0 in /anaconda/envs/jupyter_env/lib/python3.10/site-packages (from azure-ai-ml) (1.33.0)\nRequirement already satisfied: azure-mgmt-core>=1.3.0 in /anaconda/envs/jupyter_env/lib/python3.10/site-packages (from azure-ai-ml) (1.5.0)\nCollecting marshmallow<4.0.0,>=3.5 (from azure-ai-ml)\n  Downloading marshmallow-3.26.1-py3-none-any.whl.metadata (7.3 kB)\nRequirement already satisfied: jsonschema<5.0.0,>=4.0.0 in /anaconda/envs/jupyter_env/lib/python3.10/site-packages (from azure-ai-ml) (4.23.0)\nCollecting tqdm<5.0.0 (from azure-ai-ml)\n  Downloading tqdm-4.67.1-py3-none-any.whl.metadata (57 kB)\nCollecting strictyaml<2.0.0 (from azure-ai-ml)\n  Downloading strictyaml-1.7.3-py3-none-any.whl.metadata (11 kB)\nCollecting colorama<1.0.0 (from azure-ai-ml)\n  Downloading colorama-0.4.6-py2.py3-none-any.whl.metadata (17 kB)\nRequirement already satisfied: pyjwt<3.0.0 in /anaconda/envs/jupyter_env/lib/python3.10/site-packages (from azure-ai-ml) (2.10.1)\nRequirement already satisfied: azure-storage-blob>=12.10.0 in /anaconda/envs/jupyter_env/lib/python3.10/site-packages (from azure-ai-ml) (12.25.1)\nCollecting azure-storage-file-share (from azure-ai-ml)\n  Downloading azure_storage_file_share-12.21.0-py3-none-any.whl.metadata (50 kB)\nCollecting azure-storage-file-datalake>=12.2.0 (from azure-ai-ml)\n  Downloading azure_storage_file_datalake-12.20.0-py3-none-any.whl.metadata (16 kB)\nCollecting pydash<9.0.0,>=6.0.0 (from azure-ai-ml)\n  Downloading pydash-8.0.5-py3-none-any.whl.metadata (4.5 kB)\nRequirement already satisfied: isodate<1.0.0 in /anaconda/envs/jupyter_env/lib/python3.10/site-packages (from azure-ai-ml) (0.7.2)\nRequirement already satisfied: azure-common>=1.1 in /anaconda/envs/jupyter_env/lib/python3.10/site-packages (from azure-ai-ml) (1.1.28)\nRequirement already satisfied: typing-extensions<5.0.0 in /anaconda/envs/jupyter_env/lib/python3.10/site-packages (from azure-ai-ml) (4.13.2)\nCollecting azure-monitor-opentelemetry (from azure-ai-ml)\n  Downloading azure_monitor_opentelemetry-1.6.10-py3-none-any.whl.metadata (21 kB)\nRequirement already satisfied: six>=1.11.0 in /anaconda/envs/jupyter_env/lib/python3.10/site-packages (from azure-ai-ml) (1.17.0)\nRequirement already satisfied: requests>=2.21.0 in /anaconda/envs/jupyter_env/lib/python3.10/site-packages (from azure-core>=1.23.0->azure-ai-ml) (2.32.3)\nRequirement already satisfied: cryptography>=2.1.4 in /anaconda/envs/jupyter_env/lib/python3.10/site-packages (from azure-storage-blob>=12.10.0->azure-ai-ml) (44.0.2)\nRequirement already satisfied: attrs>=22.2.0 in /anaconda/envs/jupyter_env/lib/python3.10/site-packages (from jsonschema<5.0.0,>=4.0.0->azure-ai-ml) (25.3.0)\nRequirement already satisfied: jsonschema-specifications>=2023.03.6 in /anaconda/envs/jupyter_env/lib/python3.10/site-packages (from jsonschema<5.0.0,>=4.0.0->azure-ai-ml) (2024.10.1)\nRequirement already satisfied: referencing>=0.28.4 in /anaconda/envs/jupyter_env/lib/python3.10/site-packages (from jsonschema<5.0.0,>=4.0.0->azure-ai-ml) (0.36.2)\nRequirement already satisfied: rpds-py>=0.7.1 in /anaconda/envs/jupyter_env/lib/python3.10/site-packages (from jsonschema<5.0.0,>=4.0.0->azure-ai-ml) (0.22.3)\nRequirement already satisfied: packaging>=17.0 in /anaconda/envs/jupyter_env/lib/python3.10/site-packages (from marshmallow<4.0.0,>=3.5->azure-ai-ml) (25.0)\nRequirement already satisfied: certifi>=2017.4.17 in /anaconda/envs/jupyter_env/lib/python3.10/site-packages (from msrest<1.0.0,>=0.6.18->azure-ai-ml) (2025.1.31)\nRequirement already satisfied: requests-oauthlib>=0.5.0 in /anaconda/envs/jupyter_env/lib/python3.10/site-packages (from msrest<1.0.0,>=0.6.18->azure-ai-ml) (2.0.0)\nRequirement already satisfied: python-dateutil>=2.6.0 in /anaconda/envs/jupyter_env/lib/python3.10/site-packages (from strictyaml<2.0.0->azure-ai-ml) (2.9.0.post0)\nCollecting azure-core-tracing-opentelemetry~=1.0.0b11 (from azure-monitor-opentelemetry->azure-ai-ml)\n  Downloading azure_core_tracing_opentelemetry-1.0.0b12-py3-none-any.whl.metadata (11 kB)\nCollecting azure-monitor-opentelemetry-exporter~=1.0.0b31 (from azure-monitor-opentelemetry->azure-ai-ml)\n  Downloading azure_monitor_opentelemetry_exporter-1.0.0b37-py2.py3-none-any.whl.metadata (33 kB)\nCollecting opentelemetry-instrumentation-django<0.53b0,>=0.49b0 (from azure-monitor-opentelemetry->azure-ai-ml)\n  Downloading opentelemetry_instrumentation_django-0.52b1-py3-none-any.whl.metadata (2.3 kB)\nCollecting opentelemetry-instrumentation-fastapi<0.53b0,>=0.49b0 (from azure-monitor-opentelemetry->azure-ai-ml)\n  Downloading opentelemetry_instrumentation_fastapi-0.52b1-py3-none-any.whl.metadata (2.2 kB)\nCollecting opentelemetry-instrumentation-flask<0.53b0,>=0.49b0 (from azure-monitor-opentelemetry->azure-ai-ml)\n  Downloading opentelemetry_instrumentation_flask-0.52b1-py3-none-any.whl.metadata (2.2 kB)\nCollecting opentelemetry-instrumentation-psycopg2<0.53b0,>=0.49b0 (from azure-monitor-opentelemetry->azure-ai-ml)\n  Downloading opentelemetry_instrumentation_psycopg2-0.52b1-py3-none-any.whl.metadata (2.1 kB)\nCollecting opentelemetry-instrumentation-requests<0.53b0,>=0.49b0 (from azure-monitor-opentelemetry->azure-ai-ml)\n  Downloading opentelemetry_instrumentation_requests-0.52b1-py3-none-any.whl.metadata (2.7 kB)\nCollecting opentelemetry-instrumentation-urllib<0.53b0,>=0.49b0 (from azure-monitor-opentelemetry->azure-ai-ml)\n  Downloading opentelemetry_instrumentation_urllib-0.52b1-py3-none-any.whl.metadata (3.5 kB)\nCollecting opentelemetry-instrumentation-urllib3<0.53b0,>=0.49b0 (from azure-monitor-opentelemetry->azure-ai-ml)\n  Downloading opentelemetry_instrumentation_urllib3-0.52b1-py3-none-any.whl.metadata (4.2 kB)\nCollecting opentelemetry-resource-detector-azure~=0.1.4 (from azure-monitor-opentelemetry->azure-ai-ml)\n  Downloading opentelemetry_resource_detector_azure-0.1.5-py3-none-any.whl.metadata (5.3 kB)\nCollecting opentelemetry-sdk<1.32,>=1.28.0 (from azure-monitor-opentelemetry->azure-ai-ml)\n  Downloading opentelemetry_sdk-1.31.1-py3-none-any.whl.metadata (1.6 kB)\nCollecting opentelemetry-api>=1.12.0 (from azure-core-tracing-opentelemetry~=1.0.0b11->azure-monitor-opentelemetry->azure-ai-ml)\n  Downloading opentelemetry_api-1.34.0-py3-none-any.whl.metadata (1.5 kB)\nRequirement already satisfied: azure-identity~=1.17 in /anaconda/envs/jupyter_env/lib/python3.10/site-packages (from azure-monitor-opentelemetry-exporter~=1.0.0b31->azure-monitor-opentelemetry->azure-ai-ml) (1.23.0)\nCollecting fixedint==0.1.6 (from azure-monitor-opentelemetry-exporter~=1.0.0b31->azure-monitor-opentelemetry->azure-ai-ml)\n  Downloading fixedint-0.1.6-py3-none-any.whl.metadata (4.8 kB)\nRequirement already satisfied: psutil<8,>=5.9 in /anaconda/envs/jupyter_env/lib/python3.10/site-packages (from azure-monitor-opentelemetry-exporter~=1.0.0b31->azure-monitor-opentelemetry->azure-ai-ml) (5.9.1)\nRequirement already satisfied: cffi>=1.12 in /anaconda/envs/jupyter_env/lib/python3.10/site-packages (from cryptography>=2.1.4->azure-storage-blob>=12.10.0->azure-ai-ml) (1.15.0)\nCollecting opentelemetry-instrumentation-wsgi==0.52b1 (from opentelemetry-instrumentation-django<0.53b0,>=0.49b0->azure-monitor-opentelemetry->azure-ai-ml)\n  Downloading opentelemetry_instrumentation_wsgi-0.52b1-py3-none-any.whl.metadata (2.2 kB)\nCollecting opentelemetry-instrumentation==0.52b1 (from opentelemetry-instrumentation-django<0.53b0,>=0.49b0->azure-monitor-opentelemetry->azure-ai-ml)\n  Downloading opentelemetry_instrumentation-0.52b1-py3-none-any.whl.metadata (6.8 kB)\nCollecting opentelemetry-semantic-conventions==0.52b1 (from opentelemetry-instrumentation-django<0.53b0,>=0.49b0->azure-monitor-opentelemetry->azure-ai-ml)\n  Downloading opentelemetry_semantic_conventions-0.52b1-py3-none-any.whl.metadata (2.5 kB)\nCollecting opentelemetry-util-http==0.52b1 (from opentelemetry-instrumentation-django<0.53b0,>=0.49b0->azure-monitor-opentelemetry->azure-ai-ml)\n  Downloading opentelemetry_util_http-0.52b1-py3-none-any.whl.metadata (2.6 kB)\nRequirement already satisfied: wrapt<2.0.0,>=1.0.0 in /anaconda/envs/jupyter_env/lib/python3.10/site-packages (from opentelemetry-instrumentation==0.52b1->opentelemetry-instrumentation-django<0.53b0,>=0.49b0->azure-monitor-opentelemetry->azure-ai-ml) (1.17.2)\nCollecting deprecated>=1.2.6 (from opentelemetry-semantic-conventions==0.52b1->opentelemetry-instrumentation-django<0.53b0,>=0.49b0->azure-monitor-opentelemetry->azure-ai-ml)\n  Downloading Deprecated-1.2.18-py2.py3-none-any.whl.metadata (5.7 kB)\nCollecting opentelemetry-api>=1.12.0 (from azure-core-tracing-opentelemetry~=1.0.0b11->azure-monitor-opentelemetry->azure-ai-ml)\n  Downloading opentelemetry_api-1.31.1-py3-none-any.whl.metadata (1.6 kB)\nRequirement already satisfied: importlib-metadata<8.7.0,>=6.0 in /anaconda/envs/jupyter_env/lib/python3.10/site-packages (from opentelemetry-api>=1.12.0->azure-core-tracing-opentelemetry~=1.0.0b11->azure-monitor-opentelemetry->azure-ai-ml) (8.6.1)\nCollecting opentelemetry-instrumentation-asgi==0.52b1 (from opentelemetry-instrumentation-fastapi<0.53b0,>=0.49b0->azure-monitor-opentelemetry->azure-ai-ml)\n  Downloading opentelemetry_instrumentation_asgi-0.52b1-py3-none-any.whl.metadata (2.1 kB)\nCollecting asgiref~=3.0 (from opentelemetry-instrumentation-asgi==0.52b1->opentelemetry-instrumentation-fastapi<0.53b0,>=0.49b0->azure-monitor-opentelemetry->azure-ai-ml)\n  Downloading asgiref-3.8.1-py3-none-any.whl.metadata (9.3 kB)\nCollecting opentelemetry-instrumentation-dbapi==0.52b1 (from opentelemetry-instrumentation-psycopg2<0.53b0,>=0.49b0->azure-monitor-opentelemetry->azure-ai-ml)\n  Downloading opentelemetry_instrumentation_dbapi-0.52b1-py3-none-any.whl.metadata (2.0 kB)\nRequirement already satisfied: charset_normalizer<4,>=2 in /anaconda/envs/jupyter_env/lib/python3.10/site-packages (from requests>=2.21.0->azure-core>=1.23.0->azure-ai-ml) (3.4.1)\nRequirement already satisfied: idna<4,>=2.5 in /anaconda/envs/jupyter_env/lib/python3.10/site-packages (from requests>=2.21.0->azure-core>=1.23.0->azure-ai-ml) (3.10)\nRequirement already satisfied: urllib3<3,>=1.21.1 in /anaconda/envs/jupyter_env/lib/python3.10/site-packages (from requests>=2.21.0->azure-core>=1.23.0->azure-ai-ml) (2.4.0)\nRequirement already satisfied: oauthlib>=3.0.0 in /anaconda/envs/jupyter_env/lib/python3.10/site-packages (from requests-oauthlib>=0.5.0->msrest<1.0.0,>=0.6.18->azure-ai-ml) (3.2.2)\nRequirement already satisfied: msal>=1.30.0 in /anaconda/envs/jupyter_env/lib/python3.10/site-packages (from azure-identity~=1.17->azure-monitor-opentelemetry-exporter~=1.0.0b31->azure-monitor-opentelemetry->azure-ai-ml) (1.32.0)\nRequirement already satisfied: msal-extensions>=1.2.0 in /anaconda/envs/jupyter_env/lib/python3.10/site-packages (from azure-identity~=1.17->azure-monitor-opentelemetry-exporter~=1.0.0b31->azure-monitor-opentelemetry->azure-ai-ml) (1.3.1)\nRequirement already satisfied: pycparser in /anaconda/envs/jupyter_env/lib/python3.10/site-packages (from cffi>=1.12->cryptography>=2.1.4->azure-storage-blob>=12.10.0->azure-ai-ml) (2.22)\nRequirement already satisfied: zipp>=3.20 in /anaconda/envs/jupyter_env/lib/python3.10/site-packages (from importlib-metadata<8.7.0,>=6.0->opentelemetry-api>=1.12.0->azure-core-tracing-opentelemetry~=1.0.0b11->azure-monitor-opentelemetry->azure-ai-ml) (3.21.0)\nDownloading azure_ai_ml-1.27.1-py3-none-any.whl (13.2 MB)\n\u001b[2K   \u001b[90m━━━━━━━━━━━━━━━━━━━━━━━━━━━━━━━━━━━━━━━━\u001b[0m \u001b[32m13.2/13.2 MB\u001b[0m \u001b[31m115.4 MB/s\u001b[0m eta \u001b[36m0:00:00\u001b[0m\n\u001b[?25hDownloading azure_storage_file_datalake-12.20.0-py3-none-any.whl (263 kB)\nDownloading colorama-0.4.6-py2.py3-none-any.whl (25 kB)\nDownloading marshmallow-3.26.1-py3-none-any.whl (50 kB)\nDownloading pydash-8.0.5-py3-none-any.whl (102 kB)\nDownloading strictyaml-1.7.3-py3-none-any.whl (123 kB)\nDownloading tqdm-4.67.1-py3-none-any.whl (78 kB)\nDownloading azure_monitor_opentelemetry-1.6.10-py3-none-any.whl (25 kB)\nDownloading azure_storage_file_share-12.21.0-py3-none-any.whl (290 kB)\nDownloading azure_core_tracing_opentelemetry-1.0.0b12-py3-none-any.whl (11 kB)\nDownloading azure_monitor_opentelemetry_exporter-1.0.0b37-py2.py3-none-any.whl (154 kB)\nDownloading fixedint-0.1.6-py3-none-any.whl (12 kB)\nDownloading opentelemetry_instrumentation_django-0.52b1-py3-none-any.whl (19 kB)\nDownloading opentelemetry_instrumentation-0.52b1-py3-none-any.whl (31 kB)\nDownloading opentelemetry_instrumentation_wsgi-0.52b1-py3-none-any.whl (14 kB)\nDownloading opentelemetry_semantic_conventions-0.52b1-py3-none-any.whl (183 kB)\nDownloading opentelemetry_api-1.31.1-py3-none-any.whl (65 kB)\nDownloading opentelemetry_util_http-0.52b1-py3-none-any.whl (7.3 kB)\nDownloading opentelemetry_instrumentation_fastapi-0.52b1-py3-none-any.whl (12 kB)\nDownloading opentelemetry_instrumentation_asgi-0.52b1-py3-none-any.whl (16 kB)\nDownloading opentelemetry_instrumentation_flask-0.52b1-py3-none-any.whl (14 kB)\nDownloading opentelemetry_instrumentation_psycopg2-0.52b1-py3-none-any.whl (10 kB)\nDownloading opentelemetry_instrumentation_dbapi-0.52b1-py3-none-any.whl (12 kB)\nDownloading opentelemetry_instrumentation_requests-0.52b1-py3-none-any.whl (12 kB)\nDownloading opentelemetry_instrumentation_urllib-0.52b1-py3-none-any.whl (12 kB)\nDownloading opentelemetry_instrumentation_urllib3-0.52b1-py3-none-any.whl (13 kB)\nDownloading opentelemetry_resource_detector_azure-0.1.5-py3-none-any.whl (14 kB)\nDownloading opentelemetry_sdk-1.31.1-py3-none-any.whl (118 kB)\nDownloading asgiref-3.8.1-py3-none-any.whl (23 kB)\nDownloading Deprecated-1.2.18-py2.py3-none-any.whl (10.0 kB)\nInstalling collected packages: fixedint, tqdm, pydash, opentelemetry-util-http, marshmallow, deprecated, colorama, asgiref, strictyaml, opentelemetry-api, opentelemetry-semantic-conventions, azure-storage-file-share, azure-core-tracing-opentelemetry, opentelemetry-sdk, opentelemetry-instrumentation, azure-storage-file-datalake, opentelemetry-resource-detector-azure, opentelemetry-instrumentation-wsgi, opentelemetry-instrumentation-urllib3, opentelemetry-instrumentation-urllib, opentelemetry-instrumentation-requests, opentelemetry-instrumentation-dbapi, opentelemetry-instrumentation-asgi, opentelemetry-instrumentation-psycopg2, opentelemetry-instrumentation-flask, opentelemetry-instrumentation-fastapi, opentelemetry-instrumentation-django, azure-monitor-opentelemetry-exporter, azure-monitor-opentelemetry, azure-ai-ml\nSuccessfully installed asgiref-3.8.1 azure-ai-ml-1.27.1 azure-core-tracing-opentelemetry-1.0.0b12 azure-monitor-opentelemetry-1.6.10 azure-monitor-opentelemetry-exporter-1.0.0b37 azure-storage-file-datalake-12.20.0 azure-storage-file-share-12.21.0 colorama-0.4.6 deprecated-1.2.18 fixedint-0.1.6 marshmallow-3.26.1 opentelemetry-api-1.31.1 opentelemetry-instrumentation-0.52b1 opentelemetry-instrumentation-asgi-0.52b1 opentelemetry-instrumentation-dbapi-0.52b1 opentelemetry-instrumentation-django-0.52b1 opentelemetry-instrumentation-fastapi-0.52b1 opentelemetry-instrumentation-flask-0.52b1 opentelemetry-instrumentation-psycopg2-0.52b1 opentelemetry-instrumentation-requests-0.52b1 opentelemetry-instrumentation-urllib-0.52b1 opentelemetry-instrumentation-urllib3-0.52b1 opentelemetry-instrumentation-wsgi-0.52b1 opentelemetry-resource-detector-azure-0.1.5 opentelemetry-sdk-1.31.1 opentelemetry-semantic-conventions-0.52b1 opentelemetry-util-http-0.52b1 pydash-8.0.5 strictyaml-1.7.3 tqdm-4.67.1\nNote: you may need to restart the kernel to use updated packages.\nCollecting python-dotenv\n  Downloading python_dotenv-1.1.0-py3-none-any.whl.metadata (24 kB)\nDownloading python_dotenv-1.1.0-py3-none-any.whl (20 kB)\nInstalling collected packages: python-dotenv\nSuccessfully installed python-dotenv-1.1.0\nNote: you may need to restart the kernel to use updated packages.\n"
        }
      ],
      "execution_count": 4,
      "metadata": {}
    },
    {
      "cell_type": "code",
      "source": [
        "import numpy as np\n",
        "import pandas as pd\n",
        "import matplotlib as mpl\n",
        "import matplotlib.pyplot as plt\n",
        "import seaborn as sns\n",
        "\n",
        "from tensorflow.keras.layers import BatchNormalization\n",
        "from tensorflow.keras.models import Sequential\n",
        "from tensorflow.keras.layers import Activation\n",
        "from tensorflow.keras.layers import Dense, Dropout\n",
        "from tensorflow.python.keras.callbacks import EarlyStopping\n",
        "\n",
        "from azure.identity import DefaultAzureCredential, InteractiveBrowserCredential, AzureCliCredential\n",
        "from azure.ai.ml import MLClient"
      ],
      "outputs": [
        {
          "output_type": "stream",
          "name": "stderr",
          "text": "2025-06-08 15:08:39.376715: E external/local_xla/xla/stream_executor/cuda/cuda_fft.cc:467] Unable to register cuFFT factory: Attempting to register factory for plugin cuFFT when one has already been registered\nWARNING: All log messages before absl::InitializeLog() is called are written to STDERR\nE0000 00:00:1749395319.410284    3133 cuda_dnn.cc:8579] Unable to register cuDNN factory: Attempting to register factory for plugin cuDNN when one has already been registered\nE0000 00:00:1749395319.419439    3133 cuda_blas.cc:1407] Unable to register cuBLAS factory: Attempting to register factory for plugin cuBLAS when one has already been registered\nW0000 00:00:1749395319.444548    3133 computation_placer.cc:177] computation placer already registered. Please check linkage and avoid linking the same target more than once.\nW0000 00:00:1749395319.444591    3133 computation_placer.cc:177] computation placer already registered. Please check linkage and avoid linking the same target more than once.\nW0000 00:00:1749395319.444594    3133 computation_placer.cc:177] computation placer already registered. Please check linkage and avoid linking the same target more than once.\nW0000 00:00:1749395319.444596    3133 computation_placer.cc:177] computation placer already registered. Please check linkage and avoid linking the same target more than once.\n2025-06-08 15:08:39.451952: I tensorflow/core/platform/cpu_feature_guard.cc:210] This TensorFlow binary is optimized to use available CPU instructions in performance-critical operations.\nTo enable the following instructions: AVX2 AVX512F FMA, in other operations, rebuild TensorFlow with the appropriate compiler flags.\n"
        }
      ],
      "execution_count": 5,
      "metadata": {
        "gather": {
          "logged": 1749395322888
        }
      }
    },
    {
      "cell_type": "code",
      "source": [
        "credential = DefaultAzureCredential()"
      ],
      "outputs": [],
      "execution_count": 39,
      "metadata": {
        "gather": {
          "logged": 1749396881807
        }
      }
    },
    {
      "cell_type": "code",
      "source": [
        "import yaml\n",
        "\n",
        "# Load config from YAML file\n",
        "with open(\"config.yaml\", \"r\") as f:\n",
        "    config = yaml.safe_load(f)\n",
        "\n",
        "# Extract individual variables\n",
        "subscription_id = config[\"subscription_id\"]\n",
        "resource_group = config[\"resource_group\"]\n",
        "workspace_name = config[\"workspace_name\"]\n",
        "\n",
        "print(workspace_name)\n",
        "print(subscription_id)\n",
        "print(resource_group)\n",
        "type(subscription_id)"
      ],
      "outputs": [
        {
          "output_type": "stream",
          "name": "stdout",
          "text": "mlops-project-ml\n88f330cf-5648-423b-aaa3-bc9705075a61\nmlops-project\n"
        },
        {
          "output_type": "execute_result",
          "execution_count": 45,
          "data": {
            "text/plain": "str"
          },
          "metadata": {}
        }
      ],
      "execution_count": 45,
      "metadata": {
        "gather": {
          "logged": 1749396932113
        }
      }
    },
    {
      "cell_type": "code",
      "source": [
        "ml_client = MLClient(\n",
        "    credential, subscription_id, resource_group, workspace_name\n",
        ")"
      ],
      "outputs": [
        {
          "output_type": "stream",
          "name": "stderr",
          "text": "Overriding of current TracerProvider is not allowed\nOverriding of current LoggerProvider is not allowed\nOverriding of current MeterProvider is not allowed\nAttempting to instrument while already instrumented\nAttempting to instrument while already instrumented\nAttempting to instrument while already instrumented\n"
        }
      ],
      "execution_count": 41,
      "metadata": {
        "gather": {
          "logged": 1749396887045
        }
      }
    },
    {
      "cell_type": "code",
      "source": [
        "from azure.ai.ml.entities import Environment\n",
        "import os\n",
        "\n",
        "custom_env_name = \"aml-training\"\n",
        "\n",
        "\n",
        "pipeline_job_project_env = Environment(\n",
        "    name=\"training-env\",\n",
        "    image=\"mcr.microsoft.com/azureml/openmpi4.1.0-ubuntu20.04:latest\",\n",
        "    conda_file=os.path.join(\"components\", \"training\", \"conda.yaml\"),\n",
        ")\n",
        "pipeline_job_project_env = ml_client.environments.create_or_update(pipeline_job_project_env)\n",
        "\n",
        "print(\n",
        "    f\"Environment with name {pipeline_job_project_env.name} is registered to workspace, the environment version is {pipeline_job_project_env.version}\"\n",
        ")"
      ],
      "outputs": [
        {
          "output_type": "stream",
          "name": "stderr",
          "text": "Invalid type NoneType for attribute 'subscription_id' value. Expected one of ['bool', 'str', 'bytes', 'int', 'float'] or a sequence of those types\nInvalid type NoneType for attribute 'resource_group_name' value. Expected one of ['bool', 'str', 'bytes', 'int', 'float'] or a sequence of those types\nInvalid type NoneType for attribute 'subscription_id' value. Expected one of ['bool', 'str', 'bytes', 'int', 'float'] or a sequence of those types\nInvalid type NoneType for attribute 'resource_group_name' value. Expected one of ['bool', 'str', 'bytes', 'int', 'float'] or a sequence of those types\n"
        },
        {
          "output_type": "stream",
          "name": "stdout",
          "text": "Environment with name training-env is registered to workspace, the environment version is 1\n"
        }
      ],
      "execution_count": 42,
      "metadata": {
        "gather": {
          "logged": 1749396891694
        }
      }
    },
    {
      "cell_type": "code",
      "source": [
        "from azure.ai.ml import command\n",
        "from azure.ai.ml import Input, Output\n",
        "import os\n",
        "\n",
        "from azure.ai.ml import command, Input, Output\n",
        "from azure.ai.ml.entities import Component\n",
        "\n",
        "# Create the component using the Component class\n",
        "training_component = command(\n",
        "    name=\"training-1\",\n",
        "    display_name=\"Training an AI model\",\n",
        "    description=\"Trains an AI model by inputting training data CSV, augmenting it, and saving a model.\",\n",
        "    inputs={\n",
        "        \"training_data\": Input(type=\"uri_folder\"),\n",
        "        \"epochs\": Input(type=\"number\", default=100),\n",
        "        \"noise_level\": Input(type=\"number\", default=0.01),\n",
        "    },\n",
        "    outputs={\n",
        "        \"model_output\": Output(type=\"uri_file\", mode=\"rw_mount\"),\n",
        "    },\n",
        "    code=\".\",\n",
        "    command=\"python train.py --training_data ${{inputs.training_data}} --epochs ${{inputs.epochs}} --noise_level ${{inputs.noise_level}} --output_folder ${{outputs.model_output}}\",\n",
        "    environment=\"training-env:1\",\n",
        ")"
      ],
      "outputs": [],
      "execution_count": 43,
      "metadata": {
        "gather": {
          "logged": 1749396892733
        }
      }
    },
    {
      "cell_type": "code",
      "source": [
        "from azure.ai.ml import dsl, Input, Output\n",
        "\n",
        "@dsl.pipeline(\n",
        "    compute=\"project-ml-compute\",\n",
        "    description=\"training pipeline\"\n",
        ")\n",
        "\n",
        "\n",
        "def housing_training_pipeline(\n",
        "    epochs: int,\n",
        "    input_version: str = \"1\",\n",
        "    output_version: str = \"1\"\n",
        "):\n",
        "    training_job = training_component(\n",
        "        training_data= Input(\n",
        "            type = \"uri_folder\",\n",
        "            path = \"azureml:data_cleaned:1\"\n",
        "        ),\n",
        "        epochs=epochs,\n",
        "        noise_level=0.01\n",
        "    )\n",
        "\n",
        "    output_path = (\n",
        "        f\"azureml://subscriptions/{subscription_id}/\"\n",
        "        f\"resourcegroups/{resource_group}/\"\n",
        "        f\"workspaces/{workspace_name}/\"\n",
        "        f\"datastores/workspaceblobstore/paths/trained_model/\"\n",
        "    )\n",
        "\n",
        "    training_job.outputs.model_output = Output(\n",
        "        type=\"uri_file\",\n",
        "        path=output_path,\n",
        "        name=\"trained_model\",\n",
        "        mode=\"rw_mount\"\n",
        "    )\n",
        "\n",
        "    return {\n",
        "        \"output_data\": training_job.outputs.model_output,\n",
        "    }\n",
        "\n",
        "# Create the pipeline instance\n",
        "training_pipeline = housing_training_pipeline(\n",
        "    epochs=100\n",
        ")\n",
        "\n",
        "# Submit the pipeline directly\n",
        "training_pipeline_job = ml_client.jobs.create_or_update(\n",
        "    training_pipeline,\n",
        "    experiment_name=\"training_pipeline\",\n",
        ")\n",
        "\n",
        "print(f\"Pipeline submitted: {training_pipeline_job.studio_url}\")"
      ],
      "outputs": [
        {
          "output_type": "stream",
          "name": "stderr",
          "text": "Invalid type NoneType for attribute 'subscription_id' value. Expected one of ['bool', 'str', 'bytes', 'int', 'float'] or a sequence of those types\nInvalid type NoneType for attribute 'resource_group_name' value. Expected one of ['bool', 'str', 'bytes', 'int', 'float'] or a sequence of those types\nInvalid type NoneType for attribute 'subscription_id' value. Expected one of ['bool', 'str', 'bytes', 'int', 'float'] or a sequence of those types\nInvalid type NoneType for attribute 'resource_group_name' value. Expected one of ['bool', 'str', 'bytes', 'int', 'float'] or a sequence of those types\nInvalid type NoneType for attribute 'subscription_id' value. Expected one of ['bool', 'str', 'bytes', 'int', 'float'] or a sequence of those types\nInvalid type NoneType for attribute 'resource_group_name' value. Expected one of ['bool', 'str', 'bytes', 'int', 'float'] or a sequence of those types\nInvalid type NoneType for attribute 'subscription_id' value. Expected one of ['bool', 'str', 'bytes', 'int', 'float'] or a sequence of those types\nInvalid type NoneType for attribute 'resource_group_name' value. Expected one of ['bool', 'str', 'bytes', 'int', 'float'] or a sequence of those types\nInvalid type NoneType for attribute 'subscription_id' value. Expected one of ['bool', 'str', 'bytes', 'int', 'float'] or a sequence of those types\nInvalid type NoneType for attribute 'resource_group_name' value. Expected one of ['bool', 'str', 'bytes', 'int', 'float'] or a sequence of those types\nInvalid type NoneType for attribute 'subscription_id' value. Expected one of ['bool', 'str', 'bytes', 'int', 'float'] or a sequence of those types\nInvalid type NoneType for attribute 'resource_group_name' value. Expected one of ['bool', 'str', 'bytes', 'int', 'float'] or a sequence of those types\nInvalid type NoneType for attribute 'subscription_id' value. Expected one of ['bool', 'str', 'bytes', 'int', 'float'] or a sequence of those types\nInvalid type NoneType for attribute 'resource_group_name' value. Expected one of ['bool', 'str', 'bytes', 'int', 'float'] or a sequence of those types\nInvalid type NoneType for attribute 'subscription_id' value. Expected one of ['bool', 'str', 'bytes', 'int', 'float'] or a sequence of those types\nInvalid type NoneType for attribute 'resource_group_name' value. Expected one of ['bool', 'str', 'bytes', 'int', 'float'] or a sequence of those types\nInvalid type NoneType for attribute 'subscription_id' value. Expected one of ['bool', 'str', 'bytes', 'int', 'float'] or a sequence of those types\nInvalid type NoneType for attribute 'resource_group_name' value. Expected one of ['bool', 'str', 'bytes', 'int', 'float'] or a sequence of those types\nUploading mlops-project (0.15 MBs): 100%|██████████| 150368/150368 [00:00<00:00, 321167.15it/s]\n\n\nInvalid type NoneType for attribute 'subscription_id' value. Expected one of ['bool', 'str', 'bytes', 'int', 'float'] or a sequence of those types\nInvalid type NoneType for attribute 'resource_group_name' value. Expected one of ['bool', 'str', 'bytes', 'int', 'float'] or a sequence of those types\nInvalid type NoneType for attribute 'subscription_id' value. Expected one of ['bool', 'str', 'bytes', 'int', 'float'] or a sequence of those types\nInvalid type NoneType for attribute 'resource_group_name' value. Expected one of ['bool', 'str', 'bytes', 'int', 'float'] or a sequence of those types\npathOnCompute is not a known attribute of class <class 'azure.ai.ml._restclient.v2023_04_01_preview.models._models_py3.UriFileJobOutput'> and will be ignored\n"
        },
        {
          "output_type": "stream",
          "name": "stdout",
          "text": "Pipeline submitted: https://ml.azure.com/runs/affable_bridge_lbpwykv6kl?wsid=/subscriptions/88f330cf-5648-423b-aaa3-bc9705075a61/resourcegroups/mlops-project/workspaces/mlops-project-ml&tid=4ded4bb1-6bff-42b3-aed7-6a36a503bf7a\n"
        }
      ],
      "execution_count": 44,
      "metadata": {
        "gather": {
          "logged": 1749396908816
        }
      }
    }
  ],
  "metadata": {
    "kernelspec": {
      "name": "python3",
      "language": "python",
      "display_name": "Python 3 (ipykernel)"
    },
    "language_info": {
      "name": "python",
      "version": "3.10.16",
      "mimetype": "text/x-python",
      "codemirror_mode": {
        "name": "ipython",
        "version": 3
      },
      "pygments_lexer": "ipython3",
      "nbconvert_exporter": "python",
      "file_extension": ".py"
    },
    "microsoft": {
      "ms_spell_check": {
        "ms_spell_check_language": "en"
      },
      "host": {
        "AzureML": {
          "notebookHasBeenCompleted": true
        }
      }
    },
    "kernel_info": {
      "name": "python3"
    },
    "nteract": {
      "version": "nteract-front-end@1.0.0"
    }
  },
  "nbformat": 4,
  "nbformat_minor": 2
}