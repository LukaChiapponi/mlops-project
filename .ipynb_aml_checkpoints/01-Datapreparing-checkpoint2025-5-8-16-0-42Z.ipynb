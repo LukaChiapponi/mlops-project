{
  "cells": [
    {
      "cell_type": "code",
      "source": [
        "from azure.identity import DefaultAzureCredential, InteractiveBrowserCredential\n",
        "from azure.ai.ml import MLClient"
      ],
      "outputs": [],
      "execution_count": 1,
      "metadata": {
        "gather": {
          "logged": 1749397374802
        }
      }
    },
    {
      "cell_type": "code",
      "source": [
        "import os\n",
        "workspace_name = os.environ.get('WORKSPACE', 'mlops-project-ml')\n",
        "subscription_id = os.environ.get('SUBSCRIPTION_ID', '88f330cf-5648-423b-aaa3-bc9705075a61')\n",
        "resource_group = os.environ.get('RESOURCE_GROUP', 'mlops-project')"
      ],
      "outputs": [],
      "execution_count": 2,
      "metadata": {
        "gather": {
          "logged": 1749397374878
        }
      }
    },
    {
      "cell_type": "code",
      "source": [
        "import yaml\n",
        "\n",
        "# Load config from YAML file\n",
        "with open(\"config.yaml\", \"r\") as f:\n",
        "    config = yaml.safe_load(f)\n",
        "\n",
        "# Extract individual variables\n",
        "subscription_id = config[\"subscription_id\"]\n",
        "resource_group = config[\"resource_group\"]\n",
        "workspace_name = config[\"workspace_name\"]"
      ],
      "outputs": [],
      "execution_count": null,
      "metadata": {}
    },
    {
      "cell_type": "code",
      "source": [
        "credential = DefaultAzureCredential()"
      ],
      "outputs": [],
      "execution_count": 3,
      "metadata": {
        "gather": {
          "logged": 1749397374959
        }
      }
    },
    {
      "cell_type": "code",
      "source": [
        "ml_client = MLClient(\n",
        "    credential, subscription_id, resource_group, workspace_name\n",
        ")"
      ],
      "outputs": [],
      "execution_count": 4,
      "metadata": {
        "gather": {
          "logged": 1749397378186
        }
      }
    },
    {
      "cell_type": "code",
      "source": [
        "# Compute Instances need to have a unique name across the region.\n",
        "from azure.ai.ml.entities import ComputeInstance, AmlCompute\n",
        "\n",
        "ci_basic_name = \"project-ml-compute\" # I add the suffix Auto, because we are automatically creating this instance.\n",
        "ci_basic = ComputeInstance(name=ci_basic_name, size=\"STANDARD_DS3_v2\")\n",
        "ml_client.begin_create_or_update(ci_basic).result()"
      ],
      "outputs": [
        {
          "output_type": "execute_result",
          "execution_count": 5,
          "data": {
            "text/plain": "ComputeInstance({'state': 'Running', 'last_operation': {'operation_name': 'Start', 'operation_time': '2025-06-08T15:04:17.820Z', 'operation_status': 'Succeeded', 'operation_trigger': 'User'}, 'os_image_metadata': <azure.ai.ml.entities._compute._image_metadata.ImageMetadata object at 0x7b139f5a38e0>, 'services': [{'display_name': 'Jupyter', 'endpoint_uri': 'https://project-ml-compute.westeurope.instances.azureml.ms/tree/'}, {'display_name': 'Jupyter Lab', 'endpoint_uri': 'https://project-ml-compute.westeurope.instances.azureml.ms/lab'}], 'type': 'computeinstance', 'created_on': '2025-06-06T12:05:35.957256+0000', 'provisioning_state': 'Succeeded', 'provisioning_errors': None, 'name': 'project-ml-compute', 'description': None, 'tags': None, 'properties': {}, 'print_as_yaml': False, 'id': '/subscriptions/88f330cf-5648-423b-aaa3-bc9705075a61/resourceGroups/mlops-project/providers/Microsoft.MachineLearningServices/workspaces/mlops-project-ml/computes/project-ml-compute', 'Resource__source_path': '', 'base_path': '/mnt/batch/tasks/shared/LS_root/mounts/clusters/project-ml-compute/code/Users/luka.chiapponi/mlops-project', 'creation_context': None, 'serialize': <msrest.serialization.Serializer object at 0x7b139f5a0790>, 'resource_id': None, 'location': 'westeurope', 'size': 'Standard_DS3_v2', 'ssh_public_access_enabled': False, 'create_on_behalf_of': None, 'network_settings': <azure.ai.ml.entities._compute.compute.NetworkSettings object at 0x7b139f5a23b0>, 'ssh_settings': <azure.ai.ml.entities._compute.compute_instance.ComputeInstanceSshSettings object at 0x7b139f5a2b90>, 'schedules': None, 'identity': None, 'idle_time_before_shutdown': 'PT60M', 'idle_time_before_shutdown_minutes': 60, 'setup_scripts': None, 'enable_node_public_ip': True, 'enable_sso': True, 'enable_root_access': True, 'release_quota_on_stop': False, 'enable_os_patching': False, 'custom_applications': None, 'subnet': None})"
          },
          "metadata": {}
        }
      ],
      "execution_count": 5,
      "metadata": {
        "gather": {
          "logged": 1749397409994
        }
      }
    },
    {
      "cell_type": "code",
      "source": [
        "import os\n",
        "\n",
        "os.makedirs(\"components/dataprep\", exist_ok=True)\n",
        "\n",
        "conda_content = \"\"\"\n",
        "name: aml-dataprep\n",
        "channels:\n",
        "  - conda-forge\n",
        "dependencies:\n",
        "  - python=3.8\n",
        "  - numpy=1.21.2\n",
        "  - pip=21.2.4\n",
        "  - scikit-learn=0.24.2\n",
        "  - scipy=1.7.1\n",
        "  - pandas>=1.1,<1.2\n",
        "  - pip:\n",
        "    - joblib\n",
        "\"\"\"\n",
        "\n",
        "with open(\"components/dataprep/conda.yaml\", \"w\") as f:\n",
        "    f.write(conda_content.strip())\n"
      ],
      "outputs": [],
      "execution_count": 6,
      "metadata": {
        "gather": {
          "logged": 1749397410077
        }
      }
    },
    {
      "cell_type": "code",
      "source": [
        "from azure.ai.ml.entities import Environment\n",
        "import os\n",
        "\n",
        "custom_env_name = \"aml-dataprep\"\n",
        "\n",
        "pipeline_job_env = Environment(\n",
        "    name=custom_env_name,\n",
        "    description=\"\",\n",
        "    tags={},\n",
        "    conda_file=os.path.join(\"components\", \"dataprep\", \"conda.yaml\"),\n",
        "    image=\"mcr.microsoft.com/azureml/openmpi4.1.0-ubuntu20.04:latest\",\n",
        ")\n",
        "pipeline_job_env = ml_client.environments.create_or_update(pipeline_job_env)\n",
        "\n",
        "print(\n",
        "    f\"Environment with name {pipeline_job_env.name} is registered to workspace, the environment version is {pipeline_job_env.version}\"\n",
        ")"
      ],
      "outputs": [
        {
          "output_type": "stream",
          "name": "stdout",
          "text": "Environment with name aml-dataprep is registered to workspace, the environment version is 1\n"
        }
      ],
      "execution_count": 7,
      "metadata": {
        "gather": {
          "logged": 1749397415133
        }
      }
    },
    {
      "cell_type": "code",
      "source": [
        "from azure.ai.ml import command\n",
        "from azure.ai.ml import Input, Output\n",
        "import os\n",
        "\n",
        "# Define the component\n",
        "data_prep_component = command(\n",
        "    name=\"dataprep\",\n",
        "    display_name=\"Data preparation, handle data\",\n",
        "    description=\"Reads a data asset that is a csv file and handles data preprocessing\",\n",
        "    inputs={\n",
        "        \"data\": Input(type=\"uri_file\"),\n",
        "    },\n",
        "    outputs={\n",
        "        \"output_data\": Output(type=\"uri_folder\", mode=\"rw_mount\"),\n",
        "    },\n",
        "    code=os.path.join(\"components\", \"dataprep\", \"code\"),  # Path to dataprep.py\n",
        "    command=\"\"\"python dataprep.py \\\n",
        "            --data ${{inputs.data}} \\\n",
        "            --output_data ${{outputs.output_data}} \\\n",
        "            \"\"\",\n",
        "    environment=\"aml-dataprep@latest\",  # Your custom environment with PIL\n",
        ")\n",
        "\n",
        "# Register the component with your workspace\n",
        "data_prep_component = ml_client.create_or_update(data_prep_component.component)\n",
        "\n",
        "# Confirmation\n",
        "print(f\"Component {data_prep_component.name} with Version {data_prep_component.version} is registered\")\n"
      ],
      "outputs": [
        {
          "output_type": "stream",
          "name": "stderr",
          "text": "\r\u001b[32mUploading code (0.0 MBs):   0%|          | 0/1687 [00:00<?, ?it/s]\r\u001b[32mUploading code (0.0 MBs): 100%|██████████| 1687/1687 [00:00<00:00, 67312.20it/s]\n\u001b[39m\n\n"
        },
        {
          "output_type": "stream",
          "name": "stdout",
          "text": "Component dataprep with Version 2025-06-08-15-43-40-1909673 is registered\n"
        }
      ],
      "execution_count": 8,
      "metadata": {
        "gather": {
          "logged": 1749397418286
        }
      }
    },
    {
      "cell_type": "code",
      "source": [
        "from azure.ai.ml import dsl, Input, Output\n",
        "\n",
        "@dsl.pipeline(\n",
        "    compute=\"project-ml-compute\",\n",
        "    description=\"Custom data_prep pipeline\",\n",
        ")\n",
        "def boston_preprocessing_pipeline(\n",
        "    input_version: str = \"1\",\n",
        "    output_version: str = \"1\",\n",
        "):\n",
        "    # Single data prep job for a CSV file\n",
        "    data_prep_job = data_prep_component(\n",
        "        data=Input(\n",
        "            type=\"uri_file\",\n",
        "            path=\"azureml:boston_housing_prices_csv:1\"\n",
        "        ),\n",
        "    )\n",
        "\n",
        "    # Define the output path in workspace blobstore\n",
        "    subscription_id = \"88f330cf-5648-423b-aaa3-bc9705075a61\"\n",
        "    resource_group = \"mlops-project\"\n",
        "    workspace_name = \"mlops-project-ml\"\n",
        "\n",
        "    output_path = (\n",
        "    f\"azureml://subscriptions/{subscription_id}/\"\n",
        "    f\"resourcegroups/{resource_group}/\"\n",
        "    f\"workspaces/{workspace_name}/\"\n",
        "    f\"datastores/workspaceblobstore/paths/cleaned_data/\"\n",
        "    )\n",
        "\n",
        "    data_prep_job.outputs.output_data = Output(\n",
        "        type=\"uri_folder\",\n",
        "        path=output_path,\n",
        "        name = \"data_cleaned\",\n",
        "        mode=\"rw_mount\"\n",
        "    )\n",
        "    return {\n",
        "        \"cleaned_train_data\": data_prep_job.outputs.output_data\n",
        "    }\n"
      ],
      "outputs": [],
      "execution_count": 9,
      "metadata": {
        "gather": {
          "logged": 1749397418692
        }
      }
    },
    {
      "cell_type": "code",
      "source": [
        "pipeline = boston_preprocessing_pipeline()\n",
        "\n",
        "from azure.ai.ml import MLClient\n",
        "from azure.identity import DefaultAzureCredential\n",
        "import webbrowser\n",
        "\n",
        "# Connect to ML workspace\n",
        "ml_client = MLClient(\n",
        "    DefaultAzureCredential(),\n",
        "    subscription_id=subscription_id,\n",
        "    resource_group_name=resource_group,\n",
        "    workspace_name=workspace_name\n",
        ")\n",
        "\n",
        "# Submit the pipeline\n",
        "pipeline_job = ml_client.jobs.create_or_update(\n",
        "    pipeline,\n",
        "    experiment_name=\"data_preprocessing_pipeline\"\n",
        ")\n",
        "\n",
        "# Open Azure ML Studio view of this job\n",
        "webbrowser.open(pipeline_job.studio_url)\n"
      ],
      "outputs": [
        {
          "output_type": "stream",
          "name": "stderr",
          "text": "Overriding of current TracerProvider is not allowed\nOverriding of current LoggerProvider is not allowed\nOverriding of current MeterProvider is not allowed\nAttempting to instrument while already instrumented\nAttempting to instrument while already instrumented\nAttempting to instrument while already instrumented\nAttempting to instrument while already instrumented\nAttempting to instrument while already instrumented\nClass AutoDeleteSettingSchema: This is an experimental class, and may change at any time. Please see https://aka.ms/azuremlexperimental for more information.\nClass AutoDeleteConditionSchema: This is an experimental class, and may change at any time. Please see https://aka.ms/azuremlexperimental for more information.\nClass BaseAutoDeleteSettingSchema: This is an experimental class, and may change at any time. Please see https://aka.ms/azuremlexperimental for more information.\nClass IntellectualPropertySchema: This is an experimental class, and may change at any time. Please see https://aka.ms/azuremlexperimental for more information.\nClass ProtectionLevelSchema: This is an experimental class, and may change at any time. Please see https://aka.ms/azuremlexperimental for more information.\nClass BaseIntellectualPropertySchema: This is an experimental class, and may change at any time. Please see https://aka.ms/azuremlexperimental for more information.\npathOnCompute is not a known attribute of class <class 'azure.ai.ml._restclient.v2023_04_01_preview.models._models_py3.UriFolderJobOutput'> and will be ignored\n"
        },
        {
          "output_type": "execute_result",
          "execution_count": 10,
          "data": {
            "text/plain": "False"
          },
          "metadata": {}
        }
      ],
      "execution_count": 10,
      "metadata": {
        "gather": {
          "logged": 1749397423280
        }
      }
    }
  ],
  "metadata": {
    "kernelspec": {
      "name": "python310-sdkv2",
      "language": "python",
      "display_name": "Python 3.10 - SDK v2"
    },
    "language_info": {
      "name": "python",
      "version": "3.10.16",
      "mimetype": "text/x-python",
      "codemirror_mode": {
        "name": "ipython",
        "version": 3
      },
      "pygments_lexer": "ipython3",
      "nbconvert_exporter": "python",
      "file_extension": ".py"
    },
    "microsoft": {
      "ms_spell_check": {
        "ms_spell_check_language": "en"
      },
      "host": {
        "AzureML": {
          "notebookHasBeenCompleted": true
        }
      }
    },
    "kernel_info": {
      "name": "python310-sdkv2"
    },
    "nteract": {
      "version": "nteract-front-end@1.0.0"
    }
  },
  "nbformat": 4,
  "nbformat_minor": 2
}