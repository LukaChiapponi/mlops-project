{
  "cells": [
    {
      "attachments": {},
      "cell_type": "markdown",
      "source": [
        "# 1 model using reguralisation"
      ],
      "metadata": {}
    },
    {
      "cell_type": "markdown",
      "source": [
        "Now we'll create a model using reguralisation to increase it's performance"
      ],
      "metadata": {}
    },
    {
      "cell_type": "markdown",
      "source": [
        "Let's load our data and packages first"
      ],
      "metadata": {}
    },
    {
      "cell_type": "code",
      "source": [
        "from azure.identity import DefaultAzureCredential, InteractiveBrowserCredential, AzureCliCredential\n",
        "from azure.ai.ml import MLClient"
      ],
      "outputs": [],
      "execution_count": 1,
      "metadata": {
        "gather": {
          "logged": 1749398527033
        }
      }
    },
    {
      "cell_type": "code",
      "source": [
        "import yaml\n",
        "\n",
        "# Load config from YAML file\n",
        "with open(\"config.yaml\", \"r\") as f:\n",
        "    config = yaml.safe_load(f)\n",
        "\n",
        "# Extract individual variables\n",
        "subscription_id = config[\"subscription_id\"]\n",
        "resource_group = config[\"resource_group\"]\n",
        "workspace_name = config[\"workspace_name\"]\n",
        "\n",
        "print(workspace_name)\n",
        "print(subscription_id)\n",
        "print(resource_group)\n",
        "type(resource_group)"
      ],
      "outputs": [
        {
          "output_type": "stream",
          "name": "stdout",
          "text": "mlops-project-ml\n88f330cf-5648-423b-aaa3-bc9705075a61\nmlops-project\n"
        },
        {
          "output_type": "execute_result",
          "execution_count": 2,
          "data": {
            "text/plain": "str"
          },
          "metadata": {}
        }
      ],
      "execution_count": 2,
      "metadata": {
        "gather": {
          "logged": 1749398527266
        }
      }
    },
    {
      "cell_type": "code",
      "source": [
        "credential = DefaultAzureCredential()"
      ],
      "outputs": [],
      "execution_count": 3,
      "metadata": {
        "gather": {
          "logged": 1749398528976
        }
      }
    },
    {
      "cell_type": "code",
      "source": [
        "ml_client = MLClient(\n",
        "    credential, subscription_id, resource_group, workspace_name\n",
        ")\n",
        "print(\"DEBUG:\", subscription_id, resource_group, workspace_name)\n"
      ],
      "outputs": [
        {
          "output_type": "stream",
          "name": "stdout",
          "text": "DEBUG: 88f330cf-5648-423b-aaa3-bc9705075a61 mlops-project mlops-project-ml\n"
        }
      ],
      "execution_count": 4,
      "metadata": {
        "gather": {
          "logged": 1749398534289
        }
      }
    },
    {
      "cell_type": "code",
      "source": [
        "from azure.ai.ml.entities import Environment\n",
        "import os\n",
        "\n",
        "custom_env_name = \"aml-training\"\n",
        "\n",
        "\n",
        "pipeline_job_project_env = Environment(\n",
        "    name=\"training-env\",\n",
        "    image=\"mcr.microsoft.com/azureml/openmpi4.1.0-ubuntu20.04:latest\",\n",
        "    conda_file=os.path.join(\"components\", \"training\", \"conda.yaml\"),\n",
        ")\n",
        "pipeline_job_project_env = ml_client.environments.create_or_update(pipeline_job_project_env)\n",
        "\n",
        "print(\n",
        "    f\"Environment with name {pipeline_job_project_env.name} is registered to workspace, the environment version is {pipeline_job_project_env.version}\"\n",
        ")\n",
        "print(\"DEBUG:\", subscription_id, resource_group, workspace_name)"
      ],
      "outputs": [
        {
          "output_type": "stream",
          "name": "stdout",
          "text": "Environment with name training-env is registered to workspace, the environment version is 1\nDEBUG: 88f330cf-5648-423b-aaa3-bc9705075a61 mlops-project mlops-project-ml\n"
        }
      ],
      "execution_count": 5,
      "metadata": {
        "gather": {
          "logged": 1749398541455
        }
      }
    },
    {
      "cell_type": "code",
      "source": [
        "from azure.ai.ml import command\n",
        "from azure.ai.ml import Input, Output\n",
        "import os\n",
        "\n",
        "from azure.ai.ml import command, Input, Output\n",
        "from azure.ai.ml.entities import Component\n",
        "\n",
        "# Create the component using the Component class\n",
        "training_component = command(\n",
        "    name=\"training-1\",\n",
        "    display_name=\"Training an AI model\",\n",
        "    description=\"Trains an AI model by inputting training data CSV, augmenting it, and saving a model.\",\n",
        "    inputs={\n",
        "        \"training_data\": Input(type=\"uri_folder\"),\n",
        "        \"epochs\": Input(type=\"number\", default=100),\n",
        "        \"noise_level\": Input(type=\"number\", default=0.01),\n",
        "    },\n",
        "    outputs={\n",
        "        \"model_output\": Output(type=\"uri_folder\", mode=\"rw_mount\"),\n",
        "    },\n",
        "    code=\".\",\n",
        "    command=\"python train.py --training_data ${{inputs.training_data}} --epochs ${{inputs.epochs}} --noise_level ${{inputs.noise_level}} --output_folder ${{outputs.model_output}}\",\n",
        "    environment=\"training-env:1\",\n",
        ")"
      ],
      "outputs": [],
      "execution_count": 8,
      "metadata": {
        "gather": {
          "logged": 1749398887291
        }
      }
    },
    {
      "cell_type": "code",
      "source": [
        "from azure.ai.ml import dsl, Input, Output\n",
        "\n",
        "@dsl.pipeline(\n",
        "    compute=\"project-ml-compute\",\n",
        "    description=\"training pipeline\"\n",
        ")\n",
        "\n",
        "\n",
        "def housing_training_pipeline(\n",
        "    epochs: int,\n",
        "    input_version: str = \"1\",\n",
        "    output_version: str = \"1\"\n",
        "):\n",
        "    training_job = training_component(\n",
        "        training_data= Input(\n",
        "            type = \"uri_folder\",\n",
        "            path = \"azureml:data_cleaned:1\"\n",
        "        ),\n",
        "        epochs=epochs,\n",
        "        noise_level=0.01\n",
        "    )\n",
        "\n",
        "    output_path = (\n",
        "        f\"azureml://subscriptions/{subscription_id}/\"\n",
        "        f\"resourcegroups/{resource_group}/\"\n",
        "        f\"workspaces/{workspace_name}/\"\n",
        "        f\"datastores/workspaceblobstore/paths/trained_model/\"\n",
        "    )\n",
        "\n",
        "    training_job.outputs.model_output = Output(\n",
        "        type=\"uri_folder\",\n",
        "        path=output_path,\n",
        "        name=\"trained_model\",\n",
        "        mode=\"rw_mount\"\n",
        "    )\n",
        "\n",
        "    return {\n",
        "        \"output_data\": training_job.outputs.model_output,\n",
        "    }\n",
        "\n",
        "# Create the pipeline instance\n",
        "training_pipeline = housing_training_pipeline(\n",
        "    epochs=100\n",
        ")\n",
        "\n",
        "# Submit the pipeline directly\n",
        "training_pipeline_job = ml_client.jobs.create_or_update(\n",
        "    training_pipeline,\n",
        "    experiment_name=\"training_pipeline\",\n",
        ")\n",
        "\n",
        "print(f\"Pipeline submitted: {training_pipeline_job.studio_url}\")\n",
        "\n"
      ],
      "outputs": [
        {
          "output_type": "stream",
          "name": "stderr",
          "text": "\u001b[32mUploading mlops-project (0.11 MBs): 100%|██████████| 114348/114348 [00:00<00:00, 216160.14it/s]\n\u001b[39m\n\npathOnCompute is not a known attribute of class <class 'azure.ai.ml._restclient.v2023_04_01_preview.models._models_py3.UriFileJobOutput'> and will be ignored\n"
        },
        {
          "output_type": "stream",
          "name": "stdout",
          "text": "Pipeline submitted: https://ml.azure.com/runs/polite_match_r12fhkt0pw?wsid=/subscriptions/88f330cf-5648-423b-aaa3-bc9705075a61/resourcegroups/mlops-project/workspaces/mlops-project-ml&tid=4ded4bb1-6bff-42b3-aed7-6a36a503bf7a\n"
        }
      ],
      "execution_count": 9,
      "metadata": {
        "gather": {
          "logged": 1749398902740
        }
      }
    }
  ],
  "metadata": {
    "kernelspec": {
      "name": "python3",
      "language": "python",
      "display_name": "Python 3 (ipykernel)"
    },
    "language_info": {
      "name": "python",
      "version": "3.10.16",
      "mimetype": "text/x-python",
      "codemirror_mode": {
        "name": "ipython",
        "version": 3
      },
      "pygments_lexer": "ipython3",
      "nbconvert_exporter": "python",
      "file_extension": ".py"
    },
    "microsoft": {
      "ms_spell_check": {
        "ms_spell_check_language": "en"
      },
      "host": {
        "AzureML": {
          "notebookHasBeenCompleted": true
        }
      }
    },
    "kernel_info": {
      "name": "python3"
    },
    "nteract": {
      "version": "nteract-front-end@1.0.0"
    }
  },
  "nbformat": 4,
  "nbformat_minor": 2
}